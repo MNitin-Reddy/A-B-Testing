{
 "cells": [
  {
   "cell_type": "code",
   "execution_count": 1,
   "id": "70ee1cc9",
   "metadata": {},
   "outputs": [],
   "source": [
    "import numpy as np\n",
    "import pandas as pd\n",
    "import matplotlib.pyplot as plt\n",
    "import seaborn as sns\n",
    "from scipy.stats import norm "
   ]
  },
  {
   "cell_type": "markdown",
   "id": "a74e993c",
   "metadata": {},
   "source": [
    "### Context and Objective\n",
    "\n",
    "A website is conducting an A/B testing experiment to compare the effectiveness of two different button designs. The goal is to determine which design generates a higher user engagement, measured by clicks.\n",
    "\n",
    "### Objective\n",
    "\n",
    "The objective is to compare two versions of a button on the Lunar Tech website, where only the button text is changed while everything else remains the same. The aim is to determine if the difference in click-through rates between the experimental and control groups is statistically significant.\n",
    "\n",
    "**Button Variations**\n",
    "\n",
    "* Control Group Button: \"Secure Free Trial\"\n",
    "* Experimental Group Button: \"Enroll Now\""
   ]
  },
  {
   "cell_type": "markdown",
   "id": "1ce77bff",
   "metadata": {},
   "source": [
    "**Null Hypothesis (H<sub>0</sub>):**       P<sub>con</sub> = P<sub>exp</sub>   \n",
    "\n",
    "**Alternative Hypothesis (H<sub>1</sub>):**   P<sub>con</sub> ≠ P<sub>exp</sub>\n"
   ]
  },
  {
   "cell_type": "markdown",
   "id": "8155160d",
   "metadata": {},
   "source": [
    "### Loading CTR data for AB test"
   ]
  },
  {
   "cell_type": "code",
   "execution_count": 2,
   "id": "305a8c20",
   "metadata": {},
   "outputs": [
    {
     "data": {
      "text/html": [
       "<div>\n",
       "<style scoped>\n",
       "    .dataframe tbody tr th:only-of-type {\n",
       "        vertical-align: middle;\n",
       "    }\n",
       "\n",
       "    .dataframe tbody tr th {\n",
       "        vertical-align: top;\n",
       "    }\n",
       "\n",
       "    .dataframe thead th {\n",
       "        text-align: right;\n",
       "    }\n",
       "</style>\n",
       "<table border=\"1\" class=\"dataframe\">\n",
       "  <thead>\n",
       "    <tr style=\"text-align: right;\">\n",
       "      <th></th>\n",
       "      <th>user_id</th>\n",
       "      <th>click</th>\n",
       "      <th>group</th>\n",
       "      <th>timestamp</th>\n",
       "    </tr>\n",
       "  </thead>\n",
       "  <tbody>\n",
       "    <tr>\n",
       "      <th>0</th>\n",
       "      <td>1</td>\n",
       "      <td>1</td>\n",
       "      <td>exp</td>\n",
       "      <td>2024-01-01 00:00:00</td>\n",
       "    </tr>\n",
       "    <tr>\n",
       "      <th>1</th>\n",
       "      <td>2</td>\n",
       "      <td>0</td>\n",
       "      <td>exp</td>\n",
       "      <td>2024-01-01 00:01:00</td>\n",
       "    </tr>\n",
       "    <tr>\n",
       "      <th>2</th>\n",
       "      <td>3</td>\n",
       "      <td>1</td>\n",
       "      <td>exp</td>\n",
       "      <td>2024-01-01 00:02:00</td>\n",
       "    </tr>\n",
       "    <tr>\n",
       "      <th>3</th>\n",
       "      <td>4</td>\n",
       "      <td>0</td>\n",
       "      <td>exp</td>\n",
       "      <td>2024-01-01 00:03:00</td>\n",
       "    </tr>\n",
       "    <tr>\n",
       "      <th>4</th>\n",
       "      <td>5</td>\n",
       "      <td>1</td>\n",
       "      <td>exp</td>\n",
       "      <td>2024-01-01 00:04:00</td>\n",
       "    </tr>\n",
       "  </tbody>\n",
       "</table>\n",
       "</div>"
      ],
      "text/plain": [
       "   user_id  click group            timestamp\n",
       "0        1      1   exp  2024-01-01 00:00:00\n",
       "1        2      0   exp  2024-01-01 00:01:00\n",
       "2        3      1   exp  2024-01-01 00:02:00\n",
       "3        4      0   exp  2024-01-01 00:03:00\n",
       "4        5      1   exp  2024-01-01 00:04:00"
      ]
     },
     "execution_count": 2,
     "metadata": {},
     "output_type": "execute_result"
    }
   ],
   "source": [
    "# Loading data from .csv file\n",
    "df_ab_test = pd.read_csv(r\"ab_test_click_data.csv\")\n",
    "df_ab_test.head()"
   ]
  },
  {
   "cell_type": "code",
   "execution_count": 6,
   "id": "d67c20b2",
   "metadata": {},
   "outputs": [
    {
     "name": "stdout",
     "output_type": "stream",
     "text": [
      "            user_id         click\n",
      "count  20000.000000  20000.000000\n",
      "mean   10000.500000      0.405250\n",
      "std     5773.647028      0.490953\n",
      "min        1.000000      0.000000\n",
      "25%     5000.750000      0.000000\n",
      "50%    10000.500000      0.000000\n",
      "75%    15000.250000      1.000000\n",
      "max    20000.000000      1.000000\n"
     ]
    }
   ],
   "source": [
    "print(df_ab_test.describe())"
   ]
  },
  {
   "cell_type": "code",
   "execution_count": 8,
   "id": "c3700cc6",
   "metadata": {},
   "outputs": [
    {
     "data": {
      "text/html": [
       "<div>\n",
       "<style scoped>\n",
       "    .dataframe tbody tr th:only-of-type {\n",
       "        vertical-align: middle;\n",
       "    }\n",
       "\n",
       "    .dataframe tbody tr th {\n",
       "        vertical-align: top;\n",
       "    }\n",
       "\n",
       "    .dataframe thead th {\n",
       "        text-align: right;\n",
       "    }\n",
       "</style>\n",
       "<table border=\"1\" class=\"dataframe\">\n",
       "  <thead>\n",
       "    <tr style=\"text-align: right;\">\n",
       "      <th></th>\n",
       "      <th>click</th>\n",
       "    </tr>\n",
       "    <tr>\n",
       "      <th>group</th>\n",
       "      <th></th>\n",
       "    </tr>\n",
       "  </thead>\n",
       "  <tbody>\n",
       "    <tr>\n",
       "      <th>con</th>\n",
       "      <td>1989</td>\n",
       "    </tr>\n",
       "    <tr>\n",
       "      <th>exp</th>\n",
       "      <td>6116</td>\n",
       "    </tr>\n",
       "  </tbody>\n",
       "</table>\n",
       "</div>"
      ],
      "text/plain": [
       "       click\n",
       "group       \n",
       "con     1989\n",
       "exp     6116"
      ]
     },
     "execution_count": 8,
     "metadata": {},
     "output_type": "execute_result"
    }
   ],
   "source": [
    "# Number of clicks for each of the group\n",
    "df_ab_test[['group','click']].groupby(\"group\").sum(\"click\")"
   ]
  },
  {
   "cell_type": "markdown",
   "id": "006d1c82",
   "metadata": {},
   "source": [
    "A simple bar chart showing the total clicks in each group"
   ]
  },
  {
   "cell_type": "code",
   "execution_count": 36,
   "id": "ce86d03e",
   "metadata": {},
   "outputs": [
    {
     "data": {
      "image/png": "[encoded data removed]",
      "text/plain": [
       "<Figure size 800x600 with 1 Axes>"
      ]
     },
     "metadata": {},
     "output_type": "display_data"
    }
   ],
   "source": [
    "palette = {0: 'yellow' , 1:'black'} \n",
    "\n",
    "plt.figure(figsize = (8,6))\n",
    "ax = sns.countplot(x='group', hue='click', data = df_ab_test, palette =palette)\n",
    "plt.title(\"Click Distribution in both Experimental and Control groups\")\n",
    "plt.xlabel('Group')\n",
    "plt.legend(title=\"click\" , labels=['No','Yes'])\n",
    "\n",
    "# Calcualte the percentages and annotate the bars\n",
    "group_counts = df_ab_test['group'].value_counts()\n",
    "group_click_counts = df_ab_test.groupby(['group','click']).size().reset_index()\n",
    "\n",
    "for p in ax.patches:\n",
    "    height = p.get_height()\n",
    "    # find the group and click type for the current bar\n",
    "    group = 'exp' if p.get_x() < 0.5 else 'con'\n",
    "    click = 1 if p.get_x() % 1 > 0.5 else 0\n",
    "    total = group_counts.loc[group]\n",
    "    percentage = 100 * height / total\n",
    "    ax.text(p.get_x()+p.get_width()/2. , height + 100 , f'{percentage:.1f}%',ha = \"center\", color = \"black\", fontsize=12)\n",
    "    \n",
    "plt.tight_layout()\n",
    "plt.show()"
   ]
  },
  {
   "cell_type": "markdown",
   "id": "878e19ab",
   "metadata": {},
   "source": [
    "### Parameters of the Model from Power Analysis"
   ]
  },
  {
   "cell_type": "markdown",
   "id": "fb7918ba",
   "metadata": {},
   "source": [
    "<p style=\"font-size: 18px;\"><b>β:</b> Probability of Type II Error</p>\n",
    "<p style=\"font-size: 18px;\"><b>(1-β):</b> Power of the test</p>\n",
    "<p style=\"font-size: 18px;\"><b>α:</b> Probability of Type I Error, Significance Level</p>\n",
    "<p style=\"font-size: 18px;\"><b>δ:</b> Minimum Detectable Effect</p>\n"
   ]
  },
  {
   "cell_type": "code",
   "execution_count": 37,
   "id": "14ab0158",
   "metadata": {},
   "outputs": [
    {
     "name": "stdout",
     "output_type": "stream",
     "text": [
      "Alpha: significance level is:  0.05\n",
      "Delta: minimum detectable effect is:  0.1\n"
     ]
    }
   ],
   "source": [
    "alpha = 0.05 # 5%\n",
    "print(\"Alpha: significance level is: \",alpha)\n",
    "\n",
    "delta = 0.1 # 10%\n",
    "print(\"Delta: minimum detectable effect is: \", delta)"
   ]
  },
  {
   "cell_type": "markdown",
   "id": "5cd27a95",
   "metadata": {},
   "source": [
    "#### Calculating total number of clicks per group by summing up clicks"
   ]
  },
  {
   "cell_type": "code",
   "execution_count": 42,
   "id": "c9ec4314",
   "metadata": {},
   "outputs": [
    {
     "name": "stdout",
     "output_type": "stream",
     "text": [
      "group\n",
      "con    1989\n",
      "exp    6116\n",
      "Name: click, dtype: int64\n",
      "control:  1989\n",
      "experimental:  6116\n"
     ]
    }
   ],
   "source": [
    "X_con = df_ab_test.groupby(\"group\")[\"click\"].sum().loc[\"con\"]\n",
    "X_exp = df_ab_test.groupby(\"group\")[\"click\"].sum().loc[\"exp\"]\n",
    "\n",
    "print(df_ab_test.groupby(\"group\")['click'].sum())\n",
    "print('control: ', X_con)\n",
    "print('experimental: ', X_exp)"
   ]
  },
  {
   "cell_type": "markdown",
   "id": "ec5c6661",
   "metadata": {},
   "source": [
    "### Calculating Pooled Estimates for Clicks per Group"
   ]
  },
  {
   "cell_type": "code",
   "execution_count": 46,
   "id": "2d08771d",
   "metadata": {},
   "outputs": [
    {
     "name": "stdout",
     "output_type": "stream",
     "text": [
      "Click Probability in Control Group: 0.1989\n",
      "Click Probability in Experimental Group: 0.6116\n"
     ]
    },
    {
     "data": {
      "text/plain": [
       "0.40525"
      ]
     },
     "execution_count": 46,
     "metadata": {},
     "output_type": "execute_result"
    }
   ],
   "source": [
    "#computing the estimate of click probability per group\n",
    "N_con = df_ab_test['group'].value_counts().loc['con']\n",
    "N_exp = df_ab_test['group'].value_counts().loc['exp']\n",
    "\n",
    "p_con_hat = X_con/N_con\n",
    "p_exp_hat = X_exp/N_exp\n",
    "print(\"Click Probability in Control Group:\", p_con_hat)\n",
    "print(\"Click Probability in Experimental Group:\", p_exp_hat)\n",
    "\n",
    "# computing the estimate of pooled clicked probability\n",
    "p_pooled_hat = (X_con+X_exp)/(N_con+N_exp)\n",
    "p_pooled_hat"
   ]
  },
  {
   "cell_type": "markdown",
   "id": "68044ae6",
   "metadata": {},
   "source": [
    "p̂_con = X_con / N_con = #clicks_con / #impressions_con\n",
    "\n",
    "p̂_exp = X_exp / N_exp = #clicks_exp / #impressions_exp\n"
   ]
  },
  {
   "cell_type": "markdown",
   "id": "29db19b9",
   "metadata": {},
   "source": [
    "### Calculating pooled variance"
   ]
  },
  {
   "cell_type": "code",
   "execution_count": 57,
   "id": "6b718191",
   "metadata": {},
   "outputs": [
    {
     "name": "stdout",
     "output_type": "stream",
     "text": [
      "p_pooled is:  0.40525\n",
      "pooled varinace is:  4.82044875e-05\n"
     ]
    }
   ],
   "source": [
    "pooled_variance = p_pooled_hat * (1-p_pooled_hat) * (1/N_con + 1/N_exp)\n",
    "print(\"p_pooled is: \",p_pooled_hat)\n",
    "print(\"pooled varinace is: \", pooled_variance)"
   ]
  },
  {
   "cell_type": "markdown",
   "id": "b9e18d84",
   "metadata": {},
   "source": [
    "### Calcualting Standard Error and Test Statistics"
   ]
  },
  {
   "cell_type": "code",
   "execution_count": 58,
   "id": "9d6026e0",
   "metadata": {},
   "outputs": [
    {
     "name": "stdout",
     "output_type": "stream",
     "text": [
      "Standard Error is:  0.006942945160376826\n",
      "Test Statistics for 2-sample Z-test is: -59.44163326469381\n",
      "Z-critical value from Standard Normal distribution:  1.959963984540054\n"
     ]
    }
   ],
   "source": [
    "# computing the standard error of the test\n",
    "SE = np.sqrt(pooled_variance)\n",
    "print(\"Standard Error is: \", SE)\n",
    "\n",
    "# computing the test statistics of Z-test\n",
    "Test_stat = (p_con_hat - p_exp_hat)/SE\n",
    "print (\"Test Statistics for 2-sample Z-test is:\", Test_stat) \n",
    "\n",
    "# critical value of the Z-test\n",
    "Z_crit = norm.ppf(1-alpha/2)\n",
    "print(\"Z-critical value from Standard Normal distribution: \", Z_crit)"
   ]
  },
  {
   "cell_type": "markdown",
   "id": "da0bb54f",
   "metadata": {},
   "source": [
    "#### Calculating p_values of the Z-test\n",
    "* A low value (p <= 0.05 at 5% significance level) indicates strong evidence against the null hypothesis, so we reject the null hypothesis.\n",
    "* A high p-value (p > 0.05) indicates weak evidence against the null hypothesis, so we fail to reject the null hypothesis."
   ]
  },
  {
   "cell_type": "code",
   "execution_count": 59,
   "id": "c93a0e7c",
   "metadata": {},
   "outputs": [
    {
     "name": "stdout",
     "output_type": "stream",
     "text": [
      "P-value of the 2-sample Z-test: 0.0\n",
      "There is statistical significance, indicating that the observed differences between the groups are unlikely to have occured due to a chance alone.\n"
     ]
    }
   ],
   "source": [
    "#calculating p value\n",
    "p_value = 2 * norm.sf(abs(Test_stat))\n",
    "\n",
    "# function checking the statistical significance\n",
    "def is_statistical_significance(p_value, alpha):\n",
    "    \"\"\"\n",
    "    We assess whether there is statistical significance based on the p-value and alpha.\n",
    "    Arguments:\n",
    "    - p_value (float): The p-value resulting from a statistical test.\n",
    "    - alpha (float, optional): The significance level threshold used to determine statistical significance. Defaults to 0.05.\n",
    "    Returns:\n",
    "    - Prints the assessment of statistical significance.\n",
    "    \"\"\"\n",
    "    # Print the rounded p-value to 3 decimal places\n",
    "    print(f\"P-value of the 2-sample Z-test: {round(p_value, 3)}\")\n",
    "    \n",
    "    # Determine statistical significance\n",
    "    if p_value <= alpha:\n",
    "        print(\"There is statistical significance, indicating that the observed differences between the groups are unlikely to have occured due to a chance alone.\")\n",
    "    else:\n",
    "        print(\"There is no statistical significance, suggesting that the observed differences between the groups could have occurred due to a chance.\")\n",
    "\n",
    "    \n",
    "is_statistical_significance(p_value, alpha)"
   ]
  },
  {
   "cell_type": "code",
   "execution_count": 66,
   "id": "e13063f3",
   "metadata": {
    "scrolled": true
   },
   "outputs": [
    {
     "data": {
      "image/png": "[encoded data removed]",
      "text/plain": [
       "<Figure size 640x480 with 1 Axes>"
      ]
     },
     "metadata": {},
     "output_type": "display_data"
    }
   ],
   "source": [
    "# Parameters for the standard normal distribution\n",
    "mu = 0 # Mean\n",
    "sigma = 1\n",
    "# Standard deviation\n",
    "x = np.linspace(mu - 3*sigma, mu + 3*sigma, 100)\n",
    "y = norm.pdf(x, mu, sigma)\n",
    "\n",
    "\n",
    "# Plotting the standard normal distribution\n",
    "plt.plot(x, y, label=\"Standard Normal Distribution\")\n",
    "# Shade the rejection region for a two-tailed test\n",
    "plt.fill_between(x, y, where=(x > Z_crit) | (x < -Z_crit), color='red', alpha=0.5, label=\"Rejection Region\")\n",
    "# Adding Test Statistic\n",
    "plt. axvline(Test_stat, color='green', linestyle='dashed', linewidth=2, label=f'Test Statistic = (Test_stat: 2f)')\n",
    "# Adding Z-critical values\n",
    "plt.axvline(Z_crit, color='blue', linestyle='dashed', linewidth=1, label=f'Z-critical = {Z_crit:.2f}')\n",
    "plt.axvline(-Z_crit, color='blue', linestyle='dashed', linewidth=1)\n",
    "# Adding labels and title\n",
    "plt.xlabel('Z-value')\n",
    "plt.ylabel( 'Probability Density')\n",
    "plt.title( 'Gaussian Distribution with Rejection Region In (A/B Testing for LunarTech CTA button)')\n",
    "plt.legend( )\n",
    "# Show plot\n",
    "plt.show()"
   ]
  },
  {
   "cell_type": "markdown",
   "id": "c43390b0",
   "metadata": {},
   "source": [
    "### Calcualting the confidence Interval"
   ]
  },
  {
   "cell_type": "code",
   "execution_count": null,
   "id": "b5e37f21",
   "metadata": {},
   "outputs": [],
   "source": [
    "# Calculate the Confidence Interval (CI) for a 2-sample Z-test\n",
    "# Calculate the lower and upper bounds of the confidence interval\n",
    "round (p-exp hat - -con.hat) = SEa.Crit, 3) Upper bound of the Ci, rounded to 3 decimal places\n",
    "# Print the calculated confidence interval\n",
    "print (\"Confidence Interval of the 2 sample Z-test is: \", CI)"
   ]
  }
 ],
 "metadata": {
  "kernelspec": {
   "display_name": "Python 3 (ipykernel)",
   "language": "python",
   "name": "python3"
  },
  "language_info": {
   "codemirror_mode": {
    "name": "ipython",
    "version": 3
   },
   "file_extension": ".py",
   "mimetype": "text/x-python",
   "name": "python",
   "nbconvert_exporter": "python",
   "pygments_lexer": "ipython3",
   "version": "3.11.7"
  }
 },
 "nbformat": 4,
 "nbformat_minor": 5
}
